{
 "cells": [
  {
   "cell_type": "code",
   "execution_count": 1,
   "id": "cce07423",
   "metadata": {},
   "outputs": [],
   "source": [
    "# 🚀 Start Spark Session\n",
    "from pyspark.sql import SparkSession\n",
    "\n",
    "spark = SparkSession.builder \\\n",
    "    .appName(\"Notebook CSV Query\") \\\n",
    "    .getOrCreate()"
   ]
  },
  {
   "cell_type": "code",
   "execution_count": 3,
   "id": "3c0a328c",
   "metadata": {},
   "outputs": [],
   "source": [
    "# 📂 Load CSVs\n",
    "df_school = spark.read.option(\"header\", \"true\").csv(\"../data/edfi_school.csv\")\n",
    "df_student = spark.read.option(\"header\", \"true\").csv(\"../data/edfi_student.csv\")\n",
    "df_assoc = spark.read.option(\"header\", \"true\").csv(\"../data/edfi_studentschoolassociation.csv\")"
   ]
  },
  {
   "cell_type": "code",
   "execution_count": 4,
   "id": "00a94af2",
   "metadata": {},
   "outputs": [
    {
     "name": "stdout",
     "output_type": "stream",
     "text": [
      "+---------+----------------------+----------------------------------------+-------------------------+-------------------------------------+-------------------------+--------------------------+----------------------------------------------+----------------------+----------------------------------------+\n",
      "| SchoolId|LocalEducationAgencyId|AdministrativeFundingControlDescriptorId|CharterApprovalSchoolYear|CharterApprovalAgencyTypeDescriptorId|CharterStatusDescriptorId|InternetAccessDescriptorId|MagnetSpecialProgramEmphasisSchoolDescriptorId|SchoolTypeDescriptorId|TitleIPartASchoolDesignationDescriptorId|\n",
      "+---------+----------------------+----------------------------------------+-------------------------+-------------------------------------+-------------------------+--------------------------+----------------------------------------------+----------------------+----------------------------------------+\n",
      "|628530001|                628530|                                    NULL|                     NULL|                                 NULL|                     NULL|                      NULL|                                          NULL|                  1695|                                    NULL|\n",
      "|867530007|                867530|                                    NULL|                     NULL|                                 NULL|                     NULL|                      NULL|                                          NULL|                  NULL|                                    NULL|\n",
      "|867530009|                867530|                                    NULL|                     NULL|                                 NULL|                     NULL|                      NULL|                                          NULL|                  1695|                                    NULL|\n",
      "|867530010|                867530|                                    NULL|                     NULL|                                 NULL|                     NULL|                      NULL|                                          NULL|                  1695|                                    NULL|\n",
      "|867530011|                867530|                                    NULL|                     NULL|                                 NULL|                     NULL|                      NULL|                                          NULL|                  1695|                                    NULL|\n",
      "+---------+----------------------+----------------------------------------+-------------------------+-------------------------------------+-------------------------+--------------------------+----------------------------------------------+----------------------+----------------------------------------+\n",
      "only showing top 5 rows\n",
      "\n",
      "+----------+-------------------+---------+----------+-----------+--------------------+----------+----------+---------+-------------+-------------------+--------------------------+---------------+--------------------+--------------------+--------------------+------------------------+--------------------+----------------------------------+-----------------------------+-------------+-------------+\n",
      "|StudentUSI|PersonalTitlePrefix|FirstName|MiddleName|LastSurname|GenerationCodeSuffix|MaidenName| BirthDate|BirthCity|DateEnteredUS|MultipleBirthStatus|BirthInternationalProvince|StudentUniqueId|                  Id|    LastModifiedDate|          CreateDate|BirthCountryDescriptorId|BirthSexDescriptorId|BirthStateAbbreviationDescriptorId|CitizenshipStatusDescriptorId|Discriminator|ChangeVersion|\n",
      "+----------+-------------------+---------+----------+-----------+--------------------+----------+----------+---------+-------------+-------------------+--------------------------+---------------+--------------------+--------------------+--------------------+------------------------+--------------------+----------------------------------+-----------------------------+-------------+-------------+\n",
      "|   3321546|               NULL| Michelle|      NULL|  Osullivan|                NULL|      NULL|1972-07-20|     NULL|         NULL|               NULL|                      NULL|         189853|B8A9951B-82B5-4F7...|2015-11-19 16:14:...|2015-09-18 11:34:...|                    NULL|                NULL|                              NULL|                         NULL|         NULL|      1550220|\n",
      "|  10100494|               NULL|     Toby|         K|     Garner|                NULL|      NULL|1978-09-04|     NULL|         NULL|               NULL|                      NULL|         189854|1FBB3B53-A219-40F...|2015-11-19 16:14:...|2015-09-18 11:34:...|                    NULL|                NULL|                              NULL|                         NULL|         NULL|      1550221|\n",
      "|  10100868|               NULL| Kristina|         E|      Xiong|                NULL|      NULL|1977-08-07|     NULL|         NULL|               NULL|                      NULL|         189855|29E8F967-06C8-4D7...|2015-11-19 16:14:...|2015-09-18 11:34:...|                    NULL|                NULL|                              NULL|                         NULL|         NULL|      1550222|\n",
      "|  10107541|               NULL|    Shawn|         U|     Butler|                NULL|      NULL|1973-03-12|     NULL|         NULL|               NULL|                      NULL|         189856|12AB9310-0E03-4BC...|2015-11-19 16:14:...|2015-09-18 11:34:...|                    NULL|                NULL|                              NULL|                         NULL|         NULL|      1550223|\n",
      "|  10109317|               NULL|    Cathy|         L|      Brown|                NULL|      NULL|1973-01-03|     NULL|         NULL|               NULL|                      NULL|         189857|E6F00849-0ABF-467...|2015-11-19 16:14:...|2015-09-18 11:34:...|                    NULL|                NULL|                              NULL|                         NULL|         NULL|      1550224|\n",
      "+----------+-------------------+---------+----------+-----------+--------------------+----------+----------+---------+-------------+-------------------+--------------------------+---------------+--------------------+--------------------+--------------------+------------------------+--------------------+----------------------------------+-----------------------------+-------------+-------------+\n",
      "only showing top 5 rows\n",
      "\n",
      "+----------+---------+----------+----------+---------------------------+---------------------+--------------------+--------------------+----------------+----------------------------+---------------------------+-------------+---------------------+-----------------+-----------------------+------------------------------+--------------------+--------------------+--------------------+--------------------+------------+---------------------------------+-------------+-------------+-------------------+-----------------------+\n",
      "|StudentUSI| SchoolId|SchoolYear| EntryDate|EntryGradeLevelDescriptorId|EntryTypeDescriptorId|RepeatGradeIndicator|SchoolChoiceTransfer|ExitWithdrawDate|ExitWithdrawTypeDescriptorId|ResidencyStatusDescriptorId|PrimarySchool|EmployedWhileEnrolled|ClassOfSchoolYear|EducationOrganizationId|GraduationPlanTypeDescriptorId|GraduationSchoolYear|                  Id|    LastModifiedDate|          CreateDate|CalendarCode|EntryGradeLevelReasonDescriptorId|Discriminator|ChangeVersion|FullTimeEquivalency|TermCompletionIndicator|\n",
      "+----------+---------+----------+----------+---------------------------+---------------------+--------------------+--------------------+----------------+----------------------------+---------------------------+-------------+---------------------+-----------------+-----------------------+------------------------------+--------------------+--------------------+--------------------+--------------------+------------+---------------------------------+-------------+-------------+-------------------+-----------------------+\n",
      "| 600090441|628530001|      NULL|2011-08-07|                         31|                 NULL|                NULL|                NULL|      2011-11-06|                         726|                       NULL|         NULL|                 NULL|             NULL|                   NULL|                          NULL|                NULL|8C391698-D64D-43A...|2016-05-02 14:05:...|2016-05-02 14:05:...|        NULL|                             NULL|         NULL|      2156571|               NULL|                   NULL|\n",
      "| 600065220|628530001|      NULL|2011-08-22|                         21|                 NULL|                NULL|                NULL|            NULL|                        NULL|                       NULL|         NULL|                 NULL|             NULL|                   NULL|                          NULL|                NULL|7A0BBC47-0213-48F...|2015-09-18 11:47:...|2015-09-18 11:47:...|        NULL|                             NULL|         NULL|      2156251|               NULL|                   NULL|\n",
      "| 600070033|628530001|      NULL|2011-08-22|                         21|                 NULL|                NULL|                NULL|            NULL|                        NULL|                       NULL|         NULL|                 NULL|             NULL|                   NULL|                          NULL|                NULL|AC124BA9-9DB1-41D...|2015-09-18 11:47:...|2015-09-18 11:47:...|        NULL|                             NULL|         NULL|      2156252|               NULL|                   NULL|\n",
      "| 600070182|628530001|      NULL|2011-08-22|                         21|                 NULL|                NULL|                NULL|            NULL|                        NULL|                       NULL|         NULL|                 NULL|             NULL|                   NULL|                          NULL|                NULL|23A8758E-5EA4-4DF...|2015-09-18 11:47:...|2015-09-18 11:47:...|        NULL|                             NULL|         NULL|      2156253|               NULL|                   NULL|\n",
      "| 600070241|628530001|      NULL|2011-08-22|                         34|                 NULL|                NULL|                NULL|            NULL|                        NULL|                       NULL|         NULL|                 NULL|             NULL|                   NULL|                          NULL|                NULL|6EED6191-BD9A-4F0...|2015-09-18 11:47:...|2015-09-18 11:47:...|        NULL|                             NULL|         NULL|      2156254|               NULL|                   NULL|\n",
      "+----------+---------+----------+----------+---------------------------+---------------------+--------------------+--------------------+----------------+----------------------------+---------------------------+-------------+---------------------+-----------------+-----------------------+------------------------------+--------------------+--------------------+--------------------+--------------------+------------+---------------------------------+-------------+-------------+-------------------+-----------------------+\n",
      "only showing top 5 rows\n",
      "\n"
     ]
    }
   ],
   "source": [
    "# 👀 Preview Data\n",
    "df_school.show(5)\n",
    "df_student.show(5)\n",
    "df_assoc.show(5)"
   ]
  },
  {
   "cell_type": "code",
   "execution_count": 5,
   "id": "db1839c2",
   "metadata": {},
   "outputs": [],
   "source": [
    "# 🧠 Register as SQL temp views\n",
    "df_school.createOrReplaceTempView(\"school\")\n",
    "df_student.createOrReplaceTempView(\"student\")\n",
    "df_assoc.createOrReplaceTempView(\"association\")"
   ]
  },
  {
   "cell_type": "code",
   "execution_count": 6,
   "id": "d96d57b1",
   "metadata": {},
   "outputs": [
    {
     "name": "stdout",
     "output_type": "stream",
     "text": [
      "+---------------+---------+\n",
      "|StudentUniqueId| SchoolId|\n",
      "+---------------+---------+\n",
      "|         189854|867530011|\n",
      "|         189863|867530011|\n",
      "|         189865|867530011|\n",
      "|         189866|867530011|\n",
      "|         189871|867530011|\n",
      "|         189874|867530011|\n",
      "|         189875|867530011|\n",
      "|         189889|867530022|\n",
      "|         189904|867530022|\n",
      "|         189914|867530188|\n",
      "|         189916|867530011|\n",
      "|         189919|867530020|\n",
      "|         189923|867530023|\n",
      "|         190002|867530021|\n",
      "|         190006|867530021|\n",
      "|         190009|867530020|\n",
      "|         190020|867530023|\n",
      "|         189936|867530023|\n",
      "|         189938|867530020|\n",
      "|         189971|867530023|\n",
      "+---------------+---------+\n",
      "only showing top 20 rows\n",
      "\n"
     ]
    }
   ],
   "source": [
    "# 🔎 Example SQL query\n",
    "spark.sql(\"\"\"\n",
    "SELECT s.StudentUniqueId, a.SchoolId\n",
    "FROM student s\n",
    "JOIN association a ON s.StudentUSI = a.StudentUSI\n",
    "LIMIT 100\n",
    "\"\"\").show()\n"
   ]
  },
  {
   "cell_type": "code",
   "execution_count": null,
   "id": "971ee82e-8889-45ca-9ca6-205ac93d5168",
   "metadata": {},
   "outputs": [],
   "source": []
  }
 ],
 "metadata": {
  "kernelspec": {
   "display_name": "base",
   "language": "python",
   "name": "python3"
  },
  "language_info": {
   "codemirror_mode": {
    "name": "ipython",
    "version": 3
   },
   "file_extension": ".py",
   "mimetype": "text/x-python",
   "name": "python",
   "nbconvert_exporter": "python",
   "pygments_lexer": "ipython3",
   "version": "3.11.6"
  }
 },
 "nbformat": 4,
 "nbformat_minor": 5
}
